{
  "nbformat": 4,
  "nbformat_minor": 0,
  "metadata": {
    "colab": {
      "provenance": [],
      "authorship_tag": "ABX9TyPD1+8Zcp3S6GsInPc/G16s",
      "include_colab_link": true
    },
    "kernelspec": {
      "name": "python3",
      "display_name": "Python 3"
    },
    "language_info": {
      "name": "python"
    }
  },
  "cells": [
    {
      "cell_type": "markdown",
      "metadata": {
        "id": "view-in-github",
        "colab_type": "text"
      },
      "source": [
        "<a href=\"https://colab.research.google.com/github/Narangaraw411/Dive-into-code/blob/main/Creating_dummy_data.ipynb\" target=\"_parent\"><img src=\"https://colab.research.google.com/assets/colab-badge.svg\" alt=\"Open In Colab\"/></a>"
      ]
    },
    {
      "cell_type": "markdown",
      "source": [
        "[Problem 1] Creating random numbers Create 500 random numbers with a two-dimensional normal distribution whose mean is (-3, 0) and whose covariance matrix is"
      ],
      "metadata": {
        "id": "6lYsEPa_VWjP"
      }
    },
    {
      "cell_type": "code",
      "source": [
        "import numpy as np \n",
        "mean = [-3, 0]\n",
        "cov = [[1., 0.8],[0.8, 1]]\n",
        "np.random.seed(0)\n",
        "x = np.random.multivariate_normal(mean, cov, (500,2))\n",
        "x"
      ],
      "metadata": {
        "id": "0DVqOlKFVcqj",
        "colab": {
          "base_uri": "https://localhost:8080/"
        },
        "outputId": "a56209fc-a94e-431e-b419-040fcca0b73a"
      },
      "execution_count": null,
      "outputs": [
        {
          "output_type": "execute_result",
          "data": {
            "text/plain": [
              "array([[[-4.80006782, -1.54698618],\n",
              "        [-4.63714503, -0.21987973]],\n",
              "\n",
              "       [[-4.46267867, -2.08076347],\n",
              "        [-3.85346966, -0.94919637]],\n",
              "\n",
              "       [[-3.03192065,  0.22776465],\n",
              "        [-3.59653339,  0.32322993]],\n",
              "\n",
              "       ...,\n",
              "\n",
              "       [[-1.81391139,  1.20418981],\n",
              "        [-4.03973482, -1.50771134]],\n",
              "\n",
              "       [[-4.1453629 , -1.34993537],\n",
              "        [-3.2185878 , -0.15676476]],\n",
              "\n",
              "       [[-4.37970304, -1.27950068],\n",
              "        [-1.50213196,  0.66873757]]])"
            ]
          },
          "metadata": {},
          "execution_count": 6
        }
      ]
    },
    {
      "cell_type": "markdown",
      "source": [
        "[Problem 2] Visualization by scatter plot Visualize the data points created in Problem 1 with a scatter plot."
      ],
      "metadata": {
        "id": "niCYS2UwVdKO"
      }
    },
    {
      "cell_type": "code",
      "source": [
        "import matplotlib.pyplot as plt\n",
        "import numpy as np \n",
        "mean = [-3, 0]\n",
        "cov = [[1., 0.8],[0.8, 1]]\n",
        "np.random.seed(0)\n",
        "x,y = np.random.multivariate_normal(mean, cov, (500,2)).T\n",
        "fig, ax = plt.subplots()\n",
        "ax.scatter(x,y)\n",
        "plt.show()"
      ],
      "metadata": {
        "colab": {
          "base_uri": "https://localhost:8080/",
          "height": 265
        },
        "id": "Tos7lG_0emnn",
        "outputId": "e365f982-d0ac-416a-e257-545ad40ab066"
      },
      "execution_count": null,
      "outputs": [
        {
          "output_type": "display_data",
          "data": {
            "text/plain": [
              "<Figure size 432x288 with 1 Axes>"
            ],
            "image/png": "[encoded data removed]"
          },
          "metadata": {
            "needs_background": "light"
          }
        }
      ]
    },
    {
      "cell_type": "markdown",
      "source": [
        "[Problem 3] Visualization by histogram Visualize the data created in Problem 1 with a histogram."
      ],
      "metadata": {
        "id": "SZ6TwvDhVj-_"
      }
    },
    {
      "cell_type": "code",
      "source": [
        "import matplotlib.pyplot as plt\n",
        "import numpy as np \n",
        "mean = [-3, 0]\n",
        "cov = [[1., 0.8],[0.8, 1]]\n",
        "np.random.seed(0)\n",
        "x,y = np.random.multivariate_normal(mean, cov, (500,2)).T\n",
        "fig, ax = plt.subplots()\n",
        "ax.set_xlabel('x1')\n",
        "ax.set_ylabel('frequency')\n",
        "ax.hist(x)\n",
        "plt.show()"
      ],
      "metadata": {
        "id": "cDj3IOQmVqJD",
        "colab": {
          "base_uri": "https://localhost:8080/",
          "height": 279
        },
        "outputId": "3892f18b-ee1f-4232-f95a-2458f24ec56a"
      },
      "execution_count": null,
      "outputs": [
        {
          "output_type": "display_data",
          "data": {
            "text/plain": [
              "<Figure size 432x288 with 1 Axes>"
            ],
            "image/png": "[encoded data removed]"
          },
          "metadata": {
            "needs_background": "light"
          }
        }
      ]
    },
    {
      "cell_type": "code",
      "source": [
        "import matplotlib.pyplot as plt\n",
        "import numpy as np \n",
        "mean = [-3, 0]\n",
        "cov = [[1., 0.8],[0.8, 1]]\n",
        "np.random.seed(0)\n",
        "x,y = np.random.multivariate_normal(mean, cov, (500,2)).T\n",
        "fig, ax = plt.subplots()\n",
        "ax.set_xlabel('x2')\n",
        "ax.set_ylabel('frequency')\n",
        "ax.hist(y)\n",
        "plt.show()"
      ],
      "metadata": {
        "colab": {
          "base_uri": "https://localhost:8080/",
          "height": 279
        },
        "id": "3UqquVcipJUH",
        "outputId": "103ecf08-34b3-4fab-fad7-c690ffee8a43"
      },
      "execution_count": null,
      "outputs": [
        {
          "output_type": "display_data",
          "data": {
            "text/plain": [
              "<Figure size 432x288 with 1 Axes>"
            ],
            "image/png": "[encoded data removed]"
          },
          "metadata": {
            "needs_background": "light"
          }
        }
      ]
    },
    {
      "cell_type": "markdown",
      "source": [
        "[Problem 4] Addition of data Create 500 new random numbers with a two-dimensional normal distribution whose mean is (0, -3) and whose covariance matrix is represented by the following."
      ],
      "metadata": {
        "id": "MVwF1ZqqVqlx"
      }
    },
    {
      "cell_type": "code",
      "source": [
        "import matplotlib.pyplot as plt\n",
        "import numpy as np \n",
        "mean = [0, -3]\n",
        "cov = [[1., 0.8],[0.8, 1]]\n",
        "np.random.seed(0)\n",
        "x,y = np.random.multivariate_normal(mean, cov, (500,2)).T\n",
        "mean1 = [-3, 0]\n",
        "cov1 = [[1., 0.8],[0.8, 1]]\n",
        "np.random.seed(0)\n",
        "z,w = np.random.multivariate_normal(mean1, cov1, (500,2)).T\n",
        "fig, ax = plt.subplots()\n",
        "ax.scatter(z,w, label='0')\n",
        "ax.scatter(x,y, label='1')\n",
        "\n",
        "ax.legend()\n",
        "plt.show()"
      ],
      "metadata": {
        "id": "GE16sOecVx9K",
        "colab": {
          "base_uri": "https://localhost:8080/",
          "height": 265
        },
        "outputId": "637b69f7-7a35-4b32-d81b-21d2b4fa8b23"
      },
      "execution_count": null,
      "outputs": [
        {
          "output_type": "display_data",
          "data": {
            "text/plain": [
              "<Figure size 432x288 with 1 Axes>"
            ],
            "image/png": "[encoded data removed]"
          },
          "metadata": {
            "needs_background": "light"
          }
        }
      ]
    },
    {
      "cell_type": "markdown",
      "source": [
        "[Problem 5] Data combination It is better to keep the data together so that it is easier to deal with later. Combine the ndarrays created in Problems 1 and 4 into  a single ndarray of (1000, 2). The concatenation can be done using np.concatenate() or  np.vstack() ."
      ],
      "metadata": {
        "id": "QNDFis2vVyWC"
      }
    },
    {
      "cell_type": "code",
      "source": [
        "import numpy as np \n",
        "mean = [-3, 0]\n",
        "cov = [[1., 0.8],[0.8, 1]]\n",
        "np.random.seed(0)\n",
        "x = np.random.multivariate_normal(mean, cov, (500,1))\n",
        "mean1 = [0, -3]\n",
        "cov1 = [[1., 0.8],[0.8, 1]]\n",
        "np.random.seed(0)\n",
        "z = np.random.multivariate_normal(mean1, cov1, (500,1))\n",
        "concatenated_array=np.concatenate([x,z])\n",
        "Answer = concatenated_array.reshape((1000,2))\n",
        "print(Answer)\n",
        "\n"
      ],
      "metadata": {
        "id": "mrXeOvClV30R",
        "colab": {
          "base_uri": "https://localhost:8080/"
        },
        "outputId": "7ae65b2d-4073-46a2-ffce-f9138889efd6"
      },
      "execution_count": null,
      "outputs": [
        {
          "output_type": "stream",
          "name": "stdout",
          "text": [
            "[[-4.80006782 -1.54698618]\n",
            " [-4.63714503 -0.21987973]\n",
            " [-4.46267867 -2.08076347]\n",
            " ...\n",
            " [-0.40484501 -3.14372258]\n",
            " [ 0.1584315  -2.78199606]\n",
            " [ 1.20196495 -2.02452628]]\n"
          ]
        }
      ]
    },
    {
      "cell_type": "markdown",
      "source": [
        "[Problem 6] Labeling For each of the 1000 pieces of data that you have combined together, label them to indicate whether they are from question 1 or 4. Question 1 should be labeled 0 and Question 4 should be labeled 1 ."
      ],
      "metadata": {
        "id": "npuoLDcoV4bC"
      }
    },
    {
      "cell_type": "code",
      "source": [
        "import numpy as np \n",
        "mean = [-3, 0]\n",
        "cov = [[1., 0.8],[0.8, 1]]\n",
        "np.random.seed(0)\n",
        "x = np.random.multivariate_normal(mean, cov, (500,2))\n",
        "mean1 = [0, -3]\n",
        "cov1 = [[1., 0.8],[0.8, 1]]\n",
        "z = np.zeros((500,1))\n",
        "o = np.ones((500,1))\n",
        "a = np.concatenate((z,o))\n",
        "\n",
        "x= np.concatenate((x[:,:,0],x[:,:,1]))\n",
        "combined = np.concatenate((x,a),axis=1)\n",
        "\n",
        "print(combined)\n"
      ],
      "metadata": {
        "colab": {
          "base_uri": "https://localhost:8080/"
        },
        "id": "OFoJqigBPzJu",
        "outputId": "d1121b11-984c-4df6-a5fc-0baa1c7ae0db"
      },
      "execution_count": 19,
      "outputs": [
        {
          "output_type": "stream",
          "name": "stdout",
          "text": [
            "[[-4.80006782 -4.63714503  0.        ]\n",
            " [-4.46267867 -3.85346966  0.        ]\n",
            " [-3.03192065 -3.59653339  0.        ]\n",
            " ...\n",
            " [ 1.20418981 -1.50771134  1.        ]\n",
            " [-1.34993537 -0.15676476  1.        ]\n",
            " [-1.27950068  0.66873757  1.        ]]\n"
          ]
        }
      ]
    }
  ]
}