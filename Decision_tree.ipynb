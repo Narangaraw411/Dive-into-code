{
  "nbformat": 4,
  "nbformat_minor": 0,
  "metadata": {
    "colab": {
      "provenance": [],
      "authorship_tag": "ABX9TyOOXge1UTYXAhUA8M7e68Fi",
      "include_colab_link": true
    },
    "kernelspec": {
      "name": "python3",
      "display_name": "Python 3"
    },
    "language_info": {
      "name": "python"
    }
  },
  "cells": [
    {
      "cell_type": "markdown",
      "metadata": {
        "id": "view-in-github",
        "colab_type": "text"
      },
      "source": [
        "<a href=\"https://colab.research.google.com/github/Narangaraw411/Dive-into-code/blob/main/Decision_tree.ipynb\" target=\"_parent\"><img src=\"https://colab.research.google.com/assets/colab-badge.svg\" alt=\"Open In Colab\"/></a>"
      ]
    },
    {
      "cell_type": "markdown",
      "source": [
        "Decision tree"
      ],
      "metadata": {
        "id": "kC9xLMu-hlf_"
      }
    },
    {
      "cell_type": "code",
      "execution_count": 1,
      "metadata": {
        "id": "YWLLBYechilu"
      },
      "outputs": [],
      "source": [
        "class ScratchDecesionTreeClassifierDepth1():\n",
        "    \"\"\"\n",
        "    深さ1の決定木分類器のスクラッチ実装\n",
        "\n",
        "    Parameters\n",
        "    ----------\n",
        "    verbose : bool\n",
        "      学習過程を出力する場合はTrue\n",
        "    \"\"\"\n",
        "\n",
        "    def __init__(self, verbose=False):\n",
        "        # ハイパーパラメータを属性として記録\n",
        "        self.verbose = verbose\n",
        "\n",
        "    def fit(self, X, y):\n",
        "        self.gain = 0\n",
        "        for feature_index in range(X.shape[1]):\n",
        "            self.thresholds = np.unique(X[:,feature_index])\n",
        "            for threshold in self.thresholds:\n",
        "                _gain = self.calc_gain(X,feature_index,y,threshold)\n",
        "                if _gain > self.gain:\n",
        "                    self.l_label = collections.Counter(y[X[:,feature_index] < threshold]).most_common()[0][0]\n",
        "                    self.r_label = collections.Counter(y[X[:,feature_index] >= threshold]).most_common()[0][0]\n",
        "                    self.feature = feature_index\n",
        "                    self.threshold = threshold\n",
        "                    self.gain = _gain\n",
        "                    if self.verbose:\n",
        "                        print('feature',self.feature,'threshold',self.threshold,'gain',self.gain)\n",
        "\n",
        "    def predict(self, X):\n",
        "        prediction = np.where(X[:,self.feature] < self.threshold,self.l_label,self.r_label)\n",
        "        return prediction\n",
        "\n",
        "    def _calc_gini(self,y):\n",
        "        labels,counts = np.unique(y,return_counts=True)\n",
        "        _gini = 0\n",
        "        for label in labels:\n",
        "            _gini += (counts[labels==label]/np.sum(counts))**2\n",
        "        gini = 1 - _gini\n",
        "        return gini\n",
        "\n",
        "    def _calc_ig(self,X,feature_index,y,threshold):\n",
        "        labels_l = y[X[:,feature_index] < threshold]\n",
        "        labels_r = y[X[:,feature_index] >= threshold]\n",
        "        gain_l = (len(labels_l)/(len(labels_l)+len(labels_r)))*self.calc_gini(labels_l)\n",
        "        gain_r = (len(labels_r)/(len(labels_l)+len(labels_r)))*self.calc_gini(labels_r)\n",
        "        gain = self.calc_gini(y) -gain_l -gain_r\n",
        "        return gain"
      ]
    },
    {
      "cell_type": "code",
      "source": [
        "import numpy as np\n",
        "import pandas as pd\n",
        "from sklearn.datasets import load_iris\n",
        "from sklearn.model_selection import train_test_split\n",
        "iris_dataset = load_iris()\n",
        "X_train, X_test, y_train, y_test = train_test_split(iris_dataset['data'], iris_dataset['target'],test_size=0.3, random_state=0)"
      ],
      "metadata": {
        "id": "60LL5z7UgIPS"
      },
      "execution_count": 7,
      "outputs": []
    },
    {
      "cell_type": "code",
      "source": [
        "clf = ScratchDecesionTreeClassifierDepth1(verbose = True)\n",
        "clf = DecisionTreeClassifier(max_depth=3)\n",
        "clf.fit(X_train,y_train)"
      ],
      "metadata": {
        "colab": {
          "base_uri": "https://localhost:8080/",
          "height": 75
        },
        "id": "ptPiBimWi7FW",
        "outputId": "ccfbf38a-ee3b-4d6d-9878-0193007e6dab"
      },
      "execution_count": 8,
      "outputs": [
        {
          "output_type": "execute_result",
          "data": {
            "text/plain": [
              "DecisionTreeClassifier(max_depth=3)"
            ],
            "text/html": [
              "<style>#sk-container-id-2 {color: black;background-color: white;}#sk-container-id-2 pre{padding: 0;}#sk-container-id-2 div.sk-toggleable {background-color: white;}#sk-container-id-2 label.sk-toggleable__label {cursor: pointer;display: block;width: 100%;margin-bottom: 0;padding: 0.3em;box-sizing: border-box;text-align: center;}#sk-container-id-2 label.sk-toggleable__label-arrow:before {content: \"▸\";float: left;margin-right: 0.25em;color: #696969;}#sk-container-id-2 label.sk-toggleable__label-arrow:hover:before {color: black;}#sk-container-id-2 div.sk-estimator:hover label.sk-toggleable__label-arrow:before {color: black;}#sk-container-id-2 div.sk-toggleable__content {max-height: 0;max-width: 0;overflow: hidden;text-align: left;background-color: #f0f8ff;}#sk-container-id-2 div.sk-toggleable__content pre {margin: 0.2em;color: black;border-radius: 0.25em;background-color: #f0f8ff;}#sk-container-id-2 input.sk-toggleable__control:checked~div.sk-toggleable__content {max-height: 200px;max-width: 100%;overflow: auto;}#sk-container-id-2 input.sk-toggleable__control:checked~label.sk-toggleable__label-arrow:before {content: \"▾\";}#sk-container-id-2 div.sk-estimator input.sk-toggleable__control:checked~label.sk-toggleable__label {background-color: #d4ebff;}#sk-container-id-2 div.sk-label input.sk-toggleable__control:checked~label.sk-toggleable__label {background-color: #d4ebff;}#sk-container-id-2 input.sk-hidden--visually {border: 0;clip: rect(1px 1px 1px 1px);clip: rect(1px, 1px, 1px, 1px);height: 1px;margin: -1px;overflow: hidden;padding: 0;position: absolute;width: 1px;}#sk-container-id-2 div.sk-estimator {font-family: monospace;background-color: #f0f8ff;border: 1px dotted black;border-radius: 0.25em;box-sizing: border-box;margin-bottom: 0.5em;}#sk-container-id-2 div.sk-estimator:hover {background-color: #d4ebff;}#sk-container-id-2 div.sk-parallel-item::after {content: \"\";width: 100%;border-bottom: 1px solid gray;flex-grow: 1;}#sk-container-id-2 div.sk-label:hover label.sk-toggleable__label {background-color: #d4ebff;}#sk-container-id-2 div.sk-serial::before {content: \"\";position: absolute;border-left: 1px solid gray;box-sizing: border-box;top: 0;bottom: 0;left: 50%;z-index: 0;}#sk-container-id-2 div.sk-serial {display: flex;flex-direction: column;align-items: center;background-color: white;padding-right: 0.2em;padding-left: 0.2em;position: relative;}#sk-container-id-2 div.sk-item {position: relative;z-index: 1;}#sk-container-id-2 div.sk-parallel {display: flex;align-items: stretch;justify-content: center;background-color: white;position: relative;}#sk-container-id-2 div.sk-item::before, #sk-container-id-2 div.sk-parallel-item::before {content: \"\";position: absolute;border-left: 1px solid gray;box-sizing: border-box;top: 0;bottom: 0;left: 50%;z-index: -1;}#sk-container-id-2 div.sk-parallel-item {display: flex;flex-direction: column;z-index: 1;position: relative;background-color: white;}#sk-container-id-2 div.sk-parallel-item:first-child::after {align-self: flex-end;width: 50%;}#sk-container-id-2 div.sk-parallel-item:last-child::after {align-self: flex-start;width: 50%;}#sk-container-id-2 div.sk-parallel-item:only-child::after {width: 0;}#sk-container-id-2 div.sk-dashed-wrapped {border: 1px dashed gray;margin: 0 0.4em 0.5em 0.4em;box-sizing: border-box;padding-bottom: 0.4em;background-color: white;}#sk-container-id-2 div.sk-label label {font-family: monospace;font-weight: bold;display: inline-block;line-height: 1.2em;}#sk-container-id-2 div.sk-label-container {text-align: center;}#sk-container-id-2 div.sk-container {/* jupyter's `normalize.less` sets `[hidden] { display: none; }` but bootstrap.min.css set `[hidden] { display: none !important; }` so we also need the `!important` here to be able to override the default hidden behavior on the sphinx rendered scikit-learn.org. See: https://github.com/scikit-learn/scikit-learn/issues/21755 */display: inline-block !important;position: relative;}#sk-container-id-2 div.sk-text-repr-fallback {display: none;}</style><div id=\"sk-container-id-2\" class=\"sk-top-container\"><div class=\"sk-text-repr-fallback\"><pre>DecisionTreeClassifier(max_depth=3)</pre><b>In a Jupyter environment, please rerun this cell to show the HTML representation or trust the notebook. <br />On GitHub, the HTML representation is unable to render, please try loading this page with nbviewer.org.</b></div><div class=\"sk-container\" hidden><div class=\"sk-item\"><div class=\"sk-estimator sk-toggleable\"><input class=\"sk-toggleable__control sk-hidden--visually\" id=\"sk-estimator-id-2\" type=\"checkbox\" checked><label for=\"sk-estimator-id-2\" class=\"sk-toggleable__label sk-toggleable__label-arrow\">DecisionTreeClassifier</label><div class=\"sk-toggleable__content\"><pre>DecisionTreeClassifier(max_depth=3)</pre></div></div></div></div></div>"
            ]
          },
          "metadata": {},
          "execution_count": 8
        }
      ]
    },
    {
      "cell_type": "code",
      "source": [
        "train_prediction = clf.predict(X_train)"
      ],
      "metadata": {
        "id": "bl_5R8UOgSf9"
      },
      "execution_count": 9,
      "outputs": []
    },
    {
      "cell_type": "code",
      "source": [
        "from sklearn.metrics import accuracy_score\n",
        "accuracy_score(y_test, train_prediction)\n",
        "from sklearn.metrics import precision_score\n",
        "from sklearn.metrics import recall_score\n",
        "p_score = precision_score(y_test, train_prediction, average='micro')\n",
        "r_score = recall_score(y_test, train_prediction, average='micro')\n",
        "print(p_score, r_score, sep=\"\\n\")"
      ],
      "metadata": {
        "colab": {
          "base_uri": "https://localhost:8080/"
        },
        "id": "oJOOSCubjEaW",
        "outputId": "21161ae8-f2f4-41bc-dcc9-51edea888df1"
      },
      "execution_count": null,
      "outputs": [
        {
          "output_type": "stream",
          "name": "stdout",
          "text": [
            "0.9777777777777777\n",
            "0.9777777777777777\n"
          ]
        }
      ]
    },
    {
      "cell_type": "code",
      "source": [
        "from matplotlib.colors import ListedColormap\n",
        "import matplotlib.pyplot as plt\n",
        "def decision_region(X,y,slr):\n",
        "    mesh_f0, mesh_f1  = np.meshgrid(\n",
        "        np.arange(np.min(X[:,0]), np.max(X[:,0]), 0.01), \n",
        "        np.arange(np.min(X[:,1]), np.max(X[:,1]), 0.01)\n",
        "    )\n",
        "    mesh = np.c_[np.ravel(mesh_f0),np.ravel(mesh_f1)]\n",
        "    print(\"mesh shape:{}\".format(mesh.shape))\n",
        "    y_pred = slr.predict(mesh).reshape(mesh_f0.shape)\n",
        "    plt.title('decision region')\n",
        "    plt.xlabel('feature0')\n",
        "    plt.ylabel('feature1')\n",
        "    plt.contourf(mesh_f0, mesh_f1, y_pred,cmap=matplotlib.colors.ListedColormap(['pink', 'skyblue']))\n",
        "    plt.contour(mesh_f0, mesh_f1, y_pred,colors='red')\n",
        "    plt.scatter(X[y==0][:, 0], X[y==0][:, 1],label='0')\n",
        "    plt.scatter(X[y==1][:, 0], X[y==1][:, 1],label='1')\n",
        "    plt.legend()\n",
        "    plt.show()\n"
      ],
      "metadata": {
        "id": "R2xHKQEkQhMQ"
      },
      "execution_count": 10,
      "outputs": []
    }
  ]
}