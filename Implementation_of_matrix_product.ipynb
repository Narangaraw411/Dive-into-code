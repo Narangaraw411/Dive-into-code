{
  "nbformat": 4,
  "nbformat_minor": 0,
  "metadata": {
    "colab": {
      "provenance": [],
      "include_colab_link": true
    },
    "kernelspec": {
      "name": "python3",
      "display_name": "Python 3"
    },
    "language_info": {
      "name": "python"
    }
  },
  "cells": [
    {
      "cell_type": "markdown",
      "metadata": {
        "id": "view-in-github",
        "colab_type": "text"
      },
      "source": [
        "<a href=\"https://colab.research.google.com/github/Narangaraw411/Dive-into-code/blob/main/Implementation_of_matrix_product.ipynb\" target=\"_parent\"><img src=\"https://colab.research.google.com/assets/colab-badge.svg\" alt=\"Open In Colab\"/></a>"
      ]
    },
    {
      "cell_type": "markdown",
      "source": [
        "[Problem 1] Matrix product is calculated manually Solve the matrix product of A and B by hand.\n",
        "\n",
        "Please also explain the calculation process using markdown text."
      ],
      "metadata": {
        "id": "iTilHCKAdprJ"
      }
    },
    {
      "cell_type": "markdown",
      "source": [
        "[Problem 2] Calculation by NumPy function This matrix product of NumPy can be easily calculated using np.matmul() or np.dot() , or the @ operator."
      ],
      "metadata": {
        "id": "gR9xH7emdwAe"
      }
    },
    {
      "cell_type": "code",
      "source": [
        "import numpy as np\n",
        "a_ndarray = np.array([[-1, 2, 3], [4, -5, 6], [7, 8, -9]])\n",
        "b_ndarray = np.array([[0, 2, 1], [0, 2, -8], [2, 9, -1]])\n",
        "c_ndarray = np.dot(a_ndarray, b_ndarray)\n",
        "print(c_ndarray)"
      ],
      "metadata": {
        "id": "zNmpr5FKd03H",
        "colab": {
          "base_uri": "https://localhost:8080/"
        },
        "outputId": "785e5193-1deb-40e4-95c9-c55fb5bea20f"
      },
      "execution_count": null,
      "outputs": [
        {
          "output_type": "stream",
          "name": "stdout",
          "text": [
            "[[  6  29 -20]\n",
            " [ 12  52  38]\n",
            " [-18 -51 -48]]\n"
          ]
        }
      ]
    },
    {
      "cell_type": "code",
      "source": [
        "import numpy as np\n",
        "a_ndarray = np.array([[-1, 2, 3], [4, -5, 6], [7, 8, -9]])\n",
        "b_ndarray = np.array([[0, 2, 1], [0, 2, -8], [2, 9, -1]])\n",
        "c_ndarray = np.matmul(a_ndarray, b_ndarray)\n",
        "print(c_ndarray)"
      ],
      "metadata": {
        "colab": {
          "base_uri": "https://localhost:8080/"
        },
        "id": "A41CA4U-xcq_",
        "outputId": "aa527a01-b45d-429a-a6d7-3b25d5c6e75c"
      },
      "execution_count": null,
      "outputs": [
        {
          "output_type": "stream",
          "name": "stdout",
          "text": [
            "[[  6  29 -20]\n",
            " [ 12  52  38]\n",
            " [-18 -51 -48]]\n"
          ]
        }
      ]
    },
    {
      "cell_type": "code",
      "source": [
        "import numpy as np\n",
        "a_ndarray = np.array([[-1, 2, 3], [4, -5, 6], [7, 8, -9]])\n",
        "b_ndarray = np.array([[0, 2, 1], [0, 2, -8], [2, 9, -1]])\n",
        "c_ndarray = a_ndarray@b_ndarray\n",
        "print(c_ndarray)"
      ],
      "metadata": {
        "colab": {
          "base_uri": "https://localhost:8080/"
        },
        "id": "_4BQ-JsGx8-F",
        "outputId": "eced96a1-1151-4aeb-edea-ca15d8b6eabc"
      },
      "execution_count": null,
      "outputs": [
        {
          "output_type": "stream",
          "name": "stdout",
          "text": [
            "[[  6  29 -20]\n",
            " [ 12  52  38]\n",
            " [-18 -51 -48]]\n"
          ]
        }
      ]
    },
    {
      "cell_type": "markdown",
      "source": [
        "[Problem 3] Implementation of calculation of a certain element When doing the calculations by hand, you may have first paid attention to row 0 of matrix A and column 0 of matrix B, and then performed the following calculations."
      ],
      "metadata": {
        "id": "We9yiNSnd1L8"
      }
    },
    {
      "cell_type": "code",
      "source": [
        "a=[[1,2,3],[4,5,6],[7,8,9]]\n",
        "b=[[1,2,3],[4,5,6],[7,8,9]]\n",
        "\n",
        "total=0\n",
        "for i in range(0,len(a)):\n",
        "  total=total + a[0][i]*b[i][0]\n",
        "print (total)\n"
      ],
      "metadata": {
        "id": "zMDdk2Fvd5zn",
        "colab": {
          "base_uri": "https://localhost:8080/"
        },
        "outputId": "2c689337-f80c-49a0-8df8-cd18c98dd577"
      },
      "execution_count": null,
      "outputs": [
        {
          "output_type": "stream",
          "name": "stdout",
          "text": [
            "30\n"
          ]
        }
      ]
    },
    {
      "cell_type": "markdown",
      "source": [
        "[Problem 4] Creating a function that performs matrix multiplication Extend the code in Problem 3 to complete the matrix product scratch implementation. It should be a function that takes matrices A and B as arguments and returns the matrix product."
      ],
      "metadata": {
        "id": "uI2AVhqRd6R7"
      }
    },
    {
      "cell_type": "code",
      "source": [
        "def matrix(a,b):\n",
        "  total=0\n",
        "  total_1=0\n",
        "  total_2=0\n",
        "  for i in range(0,len(a)):\n",
        "    total=total + a[0][i]*b[i][0]\n",
        "    total_1=total_1 + a[1][i]*b[i][1]\n",
        "    total_2=total_2 + a[2][i]*b[i][2]\n",
        "  return total, total_1, total_2\n",
        "print(list(matrix([[1,2,3],[4,5,6],[7,8,9]],[[1,2,3],[4,5,6],[7,8,9]])))\n"
      ],
      "metadata": {
        "id": "XHql9J04d-c8",
        "colab": {
          "base_uri": "https://localhost:8080/"
        },
        "outputId": "137cd7b0-aca5-4f3a-8ed7-fab17eccf78e"
      },
      "execution_count": 1,
      "outputs": [
        {
          "output_type": "stream",
          "name": "stdout",
          "text": [
            "[30, 81, 150]\n"
          ]
        }
      ]
    },
    {
      "cell_type": "markdown",
      "source": [
        "[Problem 5] Judge the input whose calculation is not defined Depending on the implementation method, the function created in Problem 4 may work even if this D and E array is input. In this case, incorrect calculations will be made. Also, even if an error occurs in the middle, a message that is hard to understand why the error occurred is displayed directly."
      ],
      "metadata": {
        "id": "6nNJtWzBd_CL"
      }
    },
    {
      "cell_type": "code",
      "source": [
        "def matrix(a,b):\n",
        "  total=0\n",
        "  total_1=0\n",
        "  for i in range(0,len(a)):\n",
        "    total=total + a[0][i]*b[i][0]\n",
        "    total_1=total_1 + a[1][i]*b[i][1]\n",
        "  return total, total_1,\n",
        "  if a.shape[0]==b.shape[1]:\n",
        "    return total, total_1, total_2\n",
        "  else:\n",
        "    print(\"Warning\")\n",
        "    return none\n",
        "print(list(matrix([[-1, 2, 3], [4, -5, 6]],[[-9, 8, 7], [6, -5, 4]])))\n",
        "\n"
      ],
      "metadata": {
        "id": "CrTFaIF8eE3_",
        "colab": {
          "base_uri": "https://localhost:8080/"
        },
        "outputId": "b2f19094-812f-4926-9219-f544063370fb"
      },
      "execution_count": 2,
      "outputs": [
        {
          "output_type": "stream",
          "name": "stdout",
          "text": [
            "[21, 57]\n"
          ]
        }
      ]
    },
    {
      "cell_type": "markdown",
      "source": [
        "[Problem 6] Transposition Transposing one matrix allows you to calculate the matrix product."
      ],
      "metadata": {
        "id": "pLD9wn0heFZy"
      }
    },
    {
      "cell_type": "code",
      "source": [
        "import numpy as np\n",
        "a_ndarray = np.array([[-1, 2, 3], [4, -5, 6], [7, 8, -9]])\n",
        "b_ndarray = np.array([[0, 2, 1], [0, 2, -8], [2, 9, -1]])\n",
        "c_ndarray = np.dot(a_ndarray, b_ndarray).T\n",
        "print(c_ndarray)"
      ],
      "metadata": {
        "id": "pFh3n3sheJ3J",
        "colab": {
          "base_uri": "https://localhost:8080/"
        },
        "outputId": "9a870ea7-d625-486e-ef94-7c48f249ec22"
      },
      "execution_count": 6,
      "outputs": [
        {
          "output_type": "stream",
          "name": "stdout",
          "text": [
            "[[  6  12 -18]\n",
            " [ 29  52 -51]\n",
            " [-20  38 -48]]\n"
          ]
        }
      ]
    }
  ]
}