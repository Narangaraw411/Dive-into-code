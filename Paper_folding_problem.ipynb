{
  "nbformat": 4,
  "nbformat_minor": 0,
  "metadata": {
    "colab": {
      "provenance": [],
      "authorship_tag": "ABX9TyOEWYeU0YD7aLWrxmt2KgpY",
      "include_colab_link": true
    },
    "kernelspec": {
      "name": "python3",
      "display_name": "Python 3"
    },
    "language_info": {
      "name": "python"
    }
  },
  "cells": [
    {
      "cell_type": "markdown",
      "metadata": {
        "id": "view-in-github",
        "colab_type": "text"
      },
      "source": [
        "<a href=\"https://colab.research.google.com/github/Narangaraw411/Dive-into-code/blob/main/Paper_folding_problem.ipynb\" target=\"_parent\"><img src=\"https://colab.research.google.com/assets/colab-badge.svg\" alt=\"Open In Colab\"/></a>"
      ]
    },
    {
      "cell_type": "markdown",
      "source": [
        "[Problem 1] Implementation using exponentiation arithmetic operators\n",
        "Create a program that uses the exponentiation arithmetic operator.\n",
        "As a template, we have prepared a code that calculates the thickness of a sheet of paper when it is folded once. Rewrite the code to calculate the thickness when the paper is folded 43 times."
      ],
      "metadata": {
        "id": "KR6iE5GlnVX0"
      }
    },
    {
      "cell_type": "code",
      "execution_count": null,
      "metadata": {
        "colab": {
          "base_uri": "https://localhost:8080/"
        },
        "id": "5dLEuEOdmrWZ",
        "outputId": "ac584e23-95ec-4f17-e669-24ea89fad838"
      },
      "outputs": [
        {
          "output_type": "stream",
          "name": "stdout",
          "text": [
            "Folded thickness: 703687441.77664 meters\n"
          ]
        }
      ],
      "source": [
        "THICKNESS = 0.00008\n",
        "\n",
        "folded_thickness = THICKNESS * 2**43         \n",
        "\n",
        "print(\"Folded thickness: {} meters\".format(folded_thickness))\n"
      ]
    },
    {
      "cell_type": "markdown",
      "source": [
        "[Problem 2] Unit Conversion If the unit is meters, it's hard to feel the difference, so please convert the unit to ◯◯ 10,000 kilometers and display it.\n",
        "\n",
        "As a sample, we have prepared a code converted to ◯◯ kilometers , so please use it as a reference. It specifies to display up to 2 digits after the decimal point."
      ],
      "metadata": {
        "id": "nODKGly4q2P9"
      }
    },
    {
      "cell_type": "code",
      "source": [
        "# Convert meters to kilometers and display with two decimal places\n",
        "print(\"Thickness: {: .2f} kilometers\".format(folded_thickness / 1000))"
      ],
      "metadata": {
        "colab": {
          "base_uri": "https://localhost:8080/"
        },
        "id": "PW5Uq2o4rDe-",
        "outputId": "34de952d-e675-49f6-c920-e5035abe5513"
      },
      "execution_count": null,
      "outputs": [
        {
          "output_type": "stream",
          "name": "stdout",
          "text": [
            "Thickness:  703687.44 kilometers\n"
          ]
        }
      ]
    },
    {
      "cell_type": "markdown",
      "source": [
        "[Problem 3] Create using a for statement\n",
        "Next, create a program that uses the for statement.\n",
        "\n",
        "Do not use exponentiation arithmetic operators. Only the four arithmetic operations+ , - , * , / ) are allowed."
      ],
      "metadata": {
        "id": "44KjLlc3wZ4e"
      }
    },
    {
      "cell_type": "code",
      "source": [
        "Thickness = 0.00008\n",
        "for i in range(43):\n",
        "  Thickness = Thickness * 2 \n",
        "  print(Thickness)"
      ],
      "metadata": {
        "id": "RbNUAJNcwojN",
        "colab": {
          "base_uri": "https://localhost:8080/"
        },
        "outputId": "4081191e-bb60-4e27-bd39-657eab51e538"
      },
      "execution_count": null,
      "outputs": [
        {
          "output_type": "stream",
          "name": "stdout",
          "text": [
            "0.00016\n",
            "0.00032\n",
            "0.00064\n",
            "0.00128\n",
            "0.00256\n",
            "0.00512\n",
            "0.01024\n",
            "0.02048\n",
            "0.04096\n",
            "0.08192\n",
            "0.16384\n",
            "0.32768\n",
            "0.65536\n",
            "1.31072\n",
            "2.62144\n",
            "5.24288\n",
            "10.48576\n",
            "20.97152\n",
            "41.94304\n",
            "83.88608\n",
            "167.77216\n",
            "335.54432\n",
            "671.08864\n",
            "1342.17728\n",
            "2684.35456\n",
            "5368.70912\n",
            "10737.41824\n",
            "21474.83648\n",
            "42949.67296\n",
            "85899.34592\n",
            "171798.69184\n",
            "343597.38368\n",
            "687194.76736\n",
            "1374389.53472\n",
            "2748779.06944\n",
            "5497558.13888\n",
            "10995116.27776\n",
            "21990232.55552\n",
            "43980465.11104\n",
            "87960930.22208\n",
            "175921860.44416\n",
            "351843720.88832\n",
            "703687441.77664\n"
          ]
        }
      ]
    }
  ]
}